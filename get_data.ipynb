{
 "cells": [
  {
   "cell_type": "code",
   "execution_count": 1,
   "metadata": {},
   "outputs": [
    {
     "name": "stdout",
     "output_type": "stream",
     "text": [
      "[*********************100%***********************]  1 of 1 completed"
     ]
    },
    {
     "name": "stderr",
     "output_type": "stream",
     "text": [
      "Exception in thread Thread-5:\n",
      "Traceback (most recent call last):\n",
      "  File \"/Users/Rohaan/opt/anaconda3/envs/SRH_Python/lib/python3.9/threading.py\", line 980, in _bootstrap_inner\n",
      "    self.run()\n",
      "  File \"/Users/Rohaan/opt/anaconda3/envs/SRH_Python/lib/python3.9/threading.py\", line 917, in run\n",
      "    self._target(*self._args, **self._kwargs)\n",
      "  File \"/Users/Rohaan/opt/anaconda3/envs/SRH_Python/lib/python3.9/site-packages/keyboard/__init__.py\", line 294, in listen\n",
      "    _os_keyboard.listen(self.direct_callback)\n",
      "  File \"/Users/Rohaan/opt/anaconda3/envs/SRH_Python/lib/python3.9/site-packages/keyboard/_darwinkeyboard.py\", line 430, in listen\n",
      "    raise OSError(\"Error 13 - Must be run as administrator\")\n",
      "OSError: Error 13 - Must be run as administrator\n"
     ]
    },
    {
     "name": "stdout",
     "output_type": "stream",
     "text": [
      "\n",
      "[*********************100%***********************]  1 of 1 completed\n",
      "[*********************100%***********************]  1 of 1 completed\n",
      "[*********************100%***********************]  1 of 1 completed\n"
     ]
    },
    {
     "ename": "KeyboardInterrupt",
     "evalue": "",
     "output_type": "error",
     "traceback": [
      "\u001b[0;31m---------------------------------------------------------------------------\u001b[0m",
      "\u001b[0;31mKeyboardInterrupt\u001b[0m                         Traceback (most recent call last)",
      "\u001b[1;32m/Users/Rohaan/Desktop/DE/Data_Engineering_Project/get_data.ipynb Cell 1\u001b[0m in \u001b[0;36m3\n\u001b[1;32m     <a href='vscode-notebook-cell:/Users/Rohaan/Desktop/DE/Data_Engineering_Project/get_data.ipynb#W0sZmlsZQ%3D%3D?line=29'>30</a>\u001b[0m         stop_flag \u001b[39m=\u001b[39m \u001b[39mTrue\u001b[39;00m\n\u001b[1;32m     <a href='vscode-notebook-cell:/Users/Rohaan/Desktop/DE/Data_Engineering_Project/get_data.ipynb#W0sZmlsZQ%3D%3D?line=31'>32</a>\u001b[0m     \u001b[39m# Wait for 5 seconds before fetching new data\u001b[39;00m\n\u001b[0;32m---> <a href='vscode-notebook-cell:/Users/Rohaan/Desktop/DE/Data_Engineering_Project/get_data.ipynb#W0sZmlsZQ%3D%3D?line=32'>33</a>\u001b[0m     time\u001b[39m.\u001b[39;49msleep(\u001b[39m5\u001b[39;49m)\n\u001b[1;32m     <a href='vscode-notebook-cell:/Users/Rohaan/Desktop/DE/Data_Engineering_Project/get_data.ipynb#W0sZmlsZQ%3D%3D?line=34'>35</a>\u001b[0m \u001b[39mprint\u001b[39m(\u001b[39m\"\u001b[39m\u001b[39mExecution stopped by user\u001b[39m\u001b[39m\"\u001b[39m)\n",
      "\u001b[0;31mKeyboardInterrupt\u001b[0m: "
     ]
    }
   ],
   "source": [
    "import yfinance as yf\n",
    "import pandas as pd\n",
    "from pymongo import MongoClient\n",
    "import time\n",
    "import keyboard\n",
    "\n",
    "# Connect to MongoDB\n",
    "client = MongoClient(\"mongodb://localhost:27017\")\n",
    "db = client[\"your_database_name\"]  # Replace \"your_database_name\" with your desired database name\n",
    "collection = db[\"your_collection_name\"]  # Replace \"your_collection_name\" with your desired collection name\n",
    "\n",
    "# Main loop to continuously update the database\n",
    "stop_flag = False\n",
    "while not stop_flag:\n",
    "    # Fetch data using yfinance\n",
    "    ticker = \"UBER\"  # Replace with your desired ticker symbol\n",
    "    data = yf.download(ticker, period=\"1d\", interval=\"1m\")\n",
    "\n",
    "    # Convert data to a DataFrame\n",
    "    df = pd.DataFrame(data)\n",
    "\n",
    "    # Convert DataFrame to JSON format\n",
    "    data_json = df.to_dict(orient=\"records\")\n",
    "\n",
    "    # Insert data into MongoDB\n",
    "    collection.insert_many(data_json)\n",
    "\n",
    "    # Check if the space bar key is pressed to stop the execution\n",
    "    if keyboard.is_pressed('space'):\n",
    "        stop_flag = True\n",
    " \n",
    "    # Wait for 5 seconds before fetching new data\n",
    "    time.sleep(5)\n",
    "\n",
    "print(\"Execution stopped by user\")\n"
   ]
  },
  {
   "cell_type": "code",
   "execution_count": 2,
   "metadata": {},
   "outputs": [
    {
     "ename": "ModuleNotFoundError",
     "evalue": "No module named 'msvcrt'",
     "output_type": "error",
     "traceback": [
      "\u001b[0;31m---------------------------------------------------------------------------\u001b[0m",
      "\u001b[0;31mModuleNotFoundError\u001b[0m                       Traceback (most recent call last)",
      "\u001b[1;32m/Users/Rohaan/Desktop/DE/Data_Engineering_Project/get_data.ipynb Cell 2\u001b[0m in \u001b[0;36m5\n\u001b[1;32m      <a href='vscode-notebook-cell:/Users/Rohaan/Desktop/DE/Data_Engineering_Project/get_data.ipynb#W1sZmlsZQ%3D%3D?line=2'>3</a>\u001b[0m \u001b[39mfrom\u001b[39;00m \u001b[39mpymongo\u001b[39;00m \u001b[39mimport\u001b[39;00m MongoClient\n\u001b[1;32m      <a href='vscode-notebook-cell:/Users/Rohaan/Desktop/DE/Data_Engineering_Project/get_data.ipynb#W1sZmlsZQ%3D%3D?line=3'>4</a>\u001b[0m \u001b[39mimport\u001b[39;00m \u001b[39mtime\u001b[39;00m\n\u001b[0;32m----> <a href='vscode-notebook-cell:/Users/Rohaan/Desktop/DE/Data_Engineering_Project/get_data.ipynb#W1sZmlsZQ%3D%3D?line=4'>5</a>\u001b[0m \u001b[39mimport\u001b[39;00m \u001b[39mmsvcrt\u001b[39;00m\n\u001b[1;32m      <a href='vscode-notebook-cell:/Users/Rohaan/Desktop/DE/Data_Engineering_Project/get_data.ipynb#W1sZmlsZQ%3D%3D?line=6'>7</a>\u001b[0m \u001b[39m# Connect to MongoDB\u001b[39;00m\n\u001b[1;32m      <a href='vscode-notebook-cell:/Users/Rohaan/Desktop/DE/Data_Engineering_Project/get_data.ipynb#W1sZmlsZQ%3D%3D?line=7'>8</a>\u001b[0m client \u001b[39m=\u001b[39m MongoClient(\u001b[39m\"\u001b[39m\u001b[39mmongodb://localhost:27017\u001b[39m\u001b[39m\"\u001b[39m)\n",
      "\u001b[0;31mModuleNotFoundError\u001b[0m: No module named 'msvcrt'"
     ]
    }
   ],
   "source": [
    "import yfinance as yf\n",
    "import pandas as pd\n",
    "from pymongo import MongoClient\n",
    "import time\n",
    "import msvcrt\n",
    "\n",
    "# Connect to MongoDB\n",
    "client = MongoClient(\"mongodb://localhost:27017\")\n",
    "db = client[\"your_database_name\"]  # Replace \"your_database_name\" with your desired database name\n",
    "collection = db[\"your_collection_name\"]  # Replace \"your_collection_name\" with your desired collection name\n",
    "\n",
    "# Main loop to continuously update the database\n",
    "stop_flag = False\n",
    "while not stop_flag:\n",
    "    # Fetch data using yfinance\n",
    "    ticker = \"UBER\"  # Replace with your desired ticker symbol\n",
    "    data = yf.download(ticker, period=\"1d\", interval=\"1m\")\n",
    "\n",
    "    # Convert data to a DataFrame\n",
    "    df = pd.DataFrame(data)\n",
    "\n",
    "    # Convert DataFrame to JSON format\n",
    "    data_json = df.to_dict(orient=\"records\")\n",
    "\n",
    "    # Insert data into MongoDB\n",
    "    collection.insert_many(data_json)\n",
    "\n",
    "    # Check if any key is pressed to stop the execution\n",
    "    if msvcrt.kbhit():\n",
    "        key = ord(msvcrt.getch())\n",
    "        if key == 32:  # ASCII value of space bar key\n",
    "            stop_flag = True\n",
    " \n",
    "    # Wait for 5 seconds before fetching new data\n",
    "    time.sleep(5)\n",
    "\n",
    "print(\"Execution stopped by user\")\n"
   ]
  },
  {
   "cell_type": "code",
   "execution_count": 3,
   "metadata": {},
   "outputs": [
    {
     "ename": "ModuleNotFoundError",
     "evalue": "No module named 'getch'",
     "output_type": "error",
     "traceback": [
      "\u001b[0;31m---------------------------------------------------------------------------\u001b[0m",
      "\u001b[0;31mModuleNotFoundError\u001b[0m                       Traceback (most recent call last)",
      "\u001b[1;32m/Users/Rohaan/Desktop/DE/Data_Engineering_Project/get_data.ipynb Cell 3\u001b[0m in \u001b[0;36m5\n\u001b[1;32m      <a href='vscode-notebook-cell:/Users/Rohaan/Desktop/DE/Data_Engineering_Project/get_data.ipynb#W2sZmlsZQ%3D%3D?line=2'>3</a>\u001b[0m \u001b[39mfrom\u001b[39;00m \u001b[39mpymongo\u001b[39;00m \u001b[39mimport\u001b[39;00m MongoClient\n\u001b[1;32m      <a href='vscode-notebook-cell:/Users/Rohaan/Desktop/DE/Data_Engineering_Project/get_data.ipynb#W2sZmlsZQ%3D%3D?line=3'>4</a>\u001b[0m \u001b[39mimport\u001b[39;00m \u001b[39mtime\u001b[39;00m\n\u001b[0;32m----> <a href='vscode-notebook-cell:/Users/Rohaan/Desktop/DE/Data_Engineering_Project/get_data.ipynb#W2sZmlsZQ%3D%3D?line=4'>5</a>\u001b[0m \u001b[39mfrom\u001b[39;00m \u001b[39mgetch\u001b[39;00m \u001b[39mimport\u001b[39;00m getch\n\u001b[1;32m      <a href='vscode-notebook-cell:/Users/Rohaan/Desktop/DE/Data_Engineering_Project/get_data.ipynb#W2sZmlsZQ%3D%3D?line=6'>7</a>\u001b[0m \u001b[39m# Connect to MongoDB\u001b[39;00m\n\u001b[1;32m      <a href='vscode-notebook-cell:/Users/Rohaan/Desktop/DE/Data_Engineering_Project/get_data.ipynb#W2sZmlsZQ%3D%3D?line=7'>8</a>\u001b[0m client \u001b[39m=\u001b[39m MongoClient(\u001b[39m\"\u001b[39m\u001b[39mmongodb://localhost:27017\u001b[39m\u001b[39m\"\u001b[39m)\n",
      "\u001b[0;31mModuleNotFoundError\u001b[0m: No module named 'getch'"
     ]
    }
   ],
   "source": [
    "import yfinance as yf\n",
    "import pandas as pd\n",
    "from pymongo import MongoClient\n",
    "import time\n",
    "from getch import getch\n",
    "\n",
    "# Connect to MongoDB\n",
    "client = MongoClient(\"mongodb://localhost:27017\")\n",
    "db = client[\"your_database_name\"]  # Replace \"your_database_name\" with your desired database name\n",
    "collection = db[\"your_collection_name\"]  # Replace \"your_collection_name\" with your desired collection name\n",
    "\n",
    "# Main loop to continuously update the database\n",
    "stop_flag = False\n",
    "while not stop_flag:\n",
    "    # Fetch data using yfinance\n",
    "    ticker = \"UBER\"  # Replace with your desired ticker symbol\n",
    "    data = yf.download(ticker, period=\"1d\", interval=\"1m\")\n",
    "\n",
    "    # Convert data to a DataFrame\n",
    "    df = pd.DataFrame(data)\n",
    "\n",
    "    # Convert DataFrame to JSON format\n",
    "    data_json = df.to_dict(orient=\"records\")\n",
    "\n",
    "    # Insert data into MongoDB\n",
    "    collection.insert_many(data_json)\n",
    "\n",
    "    # Check if any key is pressed to stop the execution\n",
    "    if ord(getch()) == 32:  # ASCII value of space bar key\n",
    "        stop_flag = True\n",
    " \n",
    "    # Wait for 5 seconds before fetching new data\n",
    "    time.sleep(5)\n",
    "\n",
    "print(\"Execution stopped by user\")\n"
   ]
  },
  {
   "cell_type": "code",
   "execution_count": 4,
   "metadata": {},
   "outputs": [
    {
     "name": "stdout",
     "output_type": "stream",
     "text": [
      "[*********************100%***********************]  1 of 1 completed\n",
      "[*********************100%***********************]  1 of 1 completed\n",
      "Execution stopped by user\n"
     ]
    }
   ],
   "source": [
    "import yfinance as yf\n",
    "import pandas as pd\n",
    "from pymongo import MongoClient\n",
    "import time\n",
    "\n",
    "# Connect to MongoDB\n",
    "client = MongoClient(\"mongodb://localhost:27017\")\n",
    "db = client[\"your_database_name\"]  # Replace \"your_database_name\" with your desired database name\n",
    "collection = db[\"your_collection_name\"]  # Replace \"your_collection_name\" with your desired collection name\n",
    "\n",
    "# Main loop to continuously update the database\n",
    "stop_flag = False\n",
    "while not stop_flag:\n",
    "    # Fetch data using yfinance\n",
    "    ticker = \"UBER\"  # Replace with your desired ticker symbol\n",
    "    data = yf.download(ticker, period=\"1d\", interval=\"1m\")\n",
    "\n",
    "    # Convert data to a DataFrame\n",
    "    df = pd.DataFrame(data)\n",
    "\n",
    "    # Convert DataFrame to JSON format\n",
    "    data_json = df.to_dict(orient=\"records\")\n",
    "\n",
    "    # Insert data into MongoDB\n",
    "    collection.insert_many(data_json)\n",
    "\n",
    "    # Check if any key is pressed to stop the execution\n",
    "    if input(\"Press Enter to continue, or type 'stop' and press Enter to stop: \").lower() == \"stop\":\n",
    "        stop_flag = True\n",
    " \n",
    "    # Wait for 5 seconds before fetching new data\n",
    "    time.sleep(5)\n",
    "\n",
    "print(\"Execution stopped by user\")\n",
    "\n"
   ]
  },
  {
   "cell_type": "code",
   "execution_count": 5,
   "metadata": {},
   "outputs": [],
   "source": [
    "# using kafka \n",
    "import yfinance as yf\n",
    "import pandas as pd\n",
    "from pymongo import MongoClient\n",
    "import time\n",
    "from kafka import KafkaProducer\n",
    "import json"
   ]
  },
  {
   "cell_type": "code",
   "execution_count": 14,
   "metadata": {},
   "outputs": [
    {
     "name": "stdout",
     "output_type": "stream",
     "text": [
      "[*********************100%***********************]  1 of 1 completed\n"
     ]
    },
    {
     "ename": "KeyboardInterrupt",
     "evalue": "",
     "output_type": "error",
     "traceback": [
      "\u001b[0;31m---------------------------------------------------------------------------\u001b[0m",
      "\u001b[0;31mKeyboardInterrupt\u001b[0m                         Traceback (most recent call last)",
      "\u001b[1;32m/Users/Rohaan/Desktop/DE/Data_Engineering_Project/get_data.ipynb Cell 6\u001b[0m in \u001b[0;36m3\n\u001b[1;32m     <a href='vscode-notebook-cell:/Users/Rohaan/Desktop/DE/Data_Engineering_Project/get_data.ipynb#W4sZmlsZQ%3D%3D?line=33'>34</a>\u001b[0m data_json \u001b[39m=\u001b[39m df\u001b[39m.\u001b[39mto_dict(orient\u001b[39m=\u001b[39m\u001b[39m\"\u001b[39m\u001b[39mrecords\u001b[39m\u001b[39m\"\u001b[39m)\n\u001b[1;32m     <a href='vscode-notebook-cell:/Users/Rohaan/Desktop/DE/Data_Engineering_Project/get_data.ipynb#W4sZmlsZQ%3D%3D?line=35'>36</a>\u001b[0m \u001b[39m# Send data to Kafka topic\u001b[39;00m\n\u001b[0;32m---> <a href='vscode-notebook-cell:/Users/Rohaan/Desktop/DE/Data_Engineering_Project/get_data.ipynb#W4sZmlsZQ%3D%3D?line=36'>37</a>\u001b[0m kafka_producer\u001b[39m.\u001b[39;49msend(kafka_topic, value\u001b[39m=\u001b[39;49mdata_json)\n\u001b[1;32m     <a href='vscode-notebook-cell:/Users/Rohaan/Desktop/DE/Data_Engineering_Project/get_data.ipynb#W4sZmlsZQ%3D%3D?line=38'>39</a>\u001b[0m \u001b[39m# Insert data into MongoDB\u001b[39;00m\n\u001b[1;32m     <a href='vscode-notebook-cell:/Users/Rohaan/Desktop/DE/Data_Engineering_Project/get_data.ipynb#W4sZmlsZQ%3D%3D?line=39'>40</a>\u001b[0m collection\u001b[39m.\u001b[39minsert_many(data_json)\n",
      "File \u001b[0;32m~/opt/anaconda3/envs/SRH_Python/lib/python3.9/site-packages/kafka/producer/kafka.py:576\u001b[0m, in \u001b[0;36mKafkaProducer.send\u001b[0;34m(self, topic, value, key, headers, partition, timestamp_ms)\u001b[0m\n\u001b[1;32m    574\u001b[0m key_bytes \u001b[39m=\u001b[39m value_bytes \u001b[39m=\u001b[39m \u001b[39mNone\u001b[39;00m\n\u001b[1;32m    575\u001b[0m \u001b[39mtry\u001b[39;00m:\n\u001b[0;32m--> 576\u001b[0m     \u001b[39mself\u001b[39;49m\u001b[39m.\u001b[39;49m_wait_on_metadata(topic, \u001b[39mself\u001b[39;49m\u001b[39m.\u001b[39;49mconfig[\u001b[39m'\u001b[39;49m\u001b[39mmax_block_ms\u001b[39;49m\u001b[39m'\u001b[39;49m] \u001b[39m/\u001b[39;49m \u001b[39m1000.0\u001b[39;49m)\n\u001b[1;32m    578\u001b[0m     key_bytes \u001b[39m=\u001b[39m \u001b[39mself\u001b[39m\u001b[39m.\u001b[39m_serialize(\n\u001b[1;32m    579\u001b[0m         \u001b[39mself\u001b[39m\u001b[39m.\u001b[39mconfig[\u001b[39m'\u001b[39m\u001b[39mkey_serializer\u001b[39m\u001b[39m'\u001b[39m],\n\u001b[1;32m    580\u001b[0m         topic, key)\n\u001b[1;32m    581\u001b[0m     value_bytes \u001b[39m=\u001b[39m \u001b[39mself\u001b[39m\u001b[39m.\u001b[39m_serialize(\n\u001b[1;32m    582\u001b[0m         \u001b[39mself\u001b[39m\u001b[39m.\u001b[39mconfig[\u001b[39m'\u001b[39m\u001b[39mvalue_serializer\u001b[39m\u001b[39m'\u001b[39m],\n\u001b[1;32m    583\u001b[0m         topic, value)\n",
      "File \u001b[0;32m~/opt/anaconda3/envs/SRH_Python/lib/python3.9/site-packages/kafka/producer/kafka.py:699\u001b[0m, in \u001b[0;36mKafkaProducer._wait_on_metadata\u001b[0;34m(self, topic, max_wait)\u001b[0m\n\u001b[1;32m    697\u001b[0m future\u001b[39m.\u001b[39madd_both(\u001b[39mlambda\u001b[39;00m e, \u001b[39m*\u001b[39margs: e\u001b[39m.\u001b[39mset(), metadata_event)\n\u001b[1;32m    698\u001b[0m \u001b[39mself\u001b[39m\u001b[39m.\u001b[39m_sender\u001b[39m.\u001b[39mwakeup()\n\u001b[0;32m--> 699\u001b[0m metadata_event\u001b[39m.\u001b[39;49mwait(max_wait \u001b[39m-\u001b[39;49m elapsed)\n\u001b[1;32m    700\u001b[0m elapsed \u001b[39m=\u001b[39m time\u001b[39m.\u001b[39mtime() \u001b[39m-\u001b[39m begin\n\u001b[1;32m    701\u001b[0m \u001b[39mif\u001b[39;00m \u001b[39mnot\u001b[39;00m metadata_event\u001b[39m.\u001b[39mis_set():\n",
      "File \u001b[0;32m~/opt/anaconda3/envs/SRH_Python/lib/python3.9/threading.py:581\u001b[0m, in \u001b[0;36mEvent.wait\u001b[0;34m(self, timeout)\u001b[0m\n\u001b[1;32m    579\u001b[0m signaled \u001b[39m=\u001b[39m \u001b[39mself\u001b[39m\u001b[39m.\u001b[39m_flag\n\u001b[1;32m    580\u001b[0m \u001b[39mif\u001b[39;00m \u001b[39mnot\u001b[39;00m signaled:\n\u001b[0;32m--> 581\u001b[0m     signaled \u001b[39m=\u001b[39m \u001b[39mself\u001b[39;49m\u001b[39m.\u001b[39;49m_cond\u001b[39m.\u001b[39;49mwait(timeout)\n\u001b[1;32m    582\u001b[0m \u001b[39mreturn\u001b[39;00m signaled\n",
      "File \u001b[0;32m~/opt/anaconda3/envs/SRH_Python/lib/python3.9/threading.py:316\u001b[0m, in \u001b[0;36mCondition.wait\u001b[0;34m(self, timeout)\u001b[0m\n\u001b[1;32m    314\u001b[0m \u001b[39melse\u001b[39;00m:\n\u001b[1;32m    315\u001b[0m     \u001b[39mif\u001b[39;00m timeout \u001b[39m>\u001b[39m \u001b[39m0\u001b[39m:\n\u001b[0;32m--> 316\u001b[0m         gotit \u001b[39m=\u001b[39m waiter\u001b[39m.\u001b[39;49macquire(\u001b[39mTrue\u001b[39;49;00m, timeout)\n\u001b[1;32m    317\u001b[0m     \u001b[39melse\u001b[39;00m:\n\u001b[1;32m    318\u001b[0m         gotit \u001b[39m=\u001b[39m waiter\u001b[39m.\u001b[39macquire(\u001b[39mFalse\u001b[39;00m)\n",
      "\u001b[0;31mKeyboardInterrupt\u001b[0m: "
     ]
    }
   ],
   "source": [
    "# using kafka \n",
    "import yfinance as yf\n",
    "import pandas as pd\n",
    "from pymongo import MongoClient\n",
    "import time\n",
    "from kafka import KafkaProducer\n",
    "import json\n",
    "\n",
    "# Connect to MongoDB\n",
    "client = MongoClient(\"mongodb://localhost:27017\")\n",
    "db = client[\"DE_new\"]  # Replace \"your_database_name\" with your desired database name\n",
    "collection = db[\"col_1\"]  # Replace \"your_collection_name\" with your desired collection name\n",
    "\n",
    "# Kafka configuration\n",
    "kafka_bootstrap_servers = \"localhost:9092\"\n",
    "kafka_topic = \"Topic_1_Trade_Data\"  # Replace \"your_topic_name\" with your desired Kafka topic name\n",
    "\n",
    "# Create Kafka producer\n",
    "kafka_producer = KafkaProducer(bootstrap_servers=['localhost:9092'],\n",
    "                                    api_version=(0,11,5),\n",
    "                                    value_serializer=lambda v: json.dumps(v).encode('utf-8'))\n",
    "\n",
    "# Main loop to continuously update the database\n",
    "stop_flag = False\n",
    "while not stop_flag:\n",
    "    # Fetch data using yfinance\n",
    "    ticker = \"UBER\"  # Replace with your desired ticker symbol\n",
    "    data = yf.download(ticker, period=\"1d\", interval=\"1m\")\n",
    "\n",
    "    # Convert data to a DataFrame\n",
    "    df = pd.DataFrame(data)\n",
    "\n",
    "    # Convert DataFrame to JSON format\n",
    "    data_json = df.to_dict(orient=\"records\")\n",
    "\n",
    "    # Send data to Kafka topic\n",
    "    kafka_producer.send(kafka_topic, value=data_json)\n",
    "\n",
    "    # Insert data into MongoDB\n",
    "    collection.insert_many(data_json)\n",
    "\n",
    "    # Check if any key is pressed to stop the execution\n",
    "    if input(\"Press Enter to continue, or type 'stop' and press Enter to stop: \").lower() == \"stop\":\n",
    "        stop_flag = True\n",
    " \n",
    "    # Wait for 5 seconds before fetching new data\n",
    "    time.sleep(5)\n",
    "\n",
    "print(\"Execution stopped by user\")\n"
   ]
  },
  {
   "cell_type": "code",
   "execution_count": 19,
   "metadata": {},
   "outputs": [
    {
     "name": "stdout",
     "output_type": "stream",
     "text": [
      "[*********************100%***********************]  1 of 1 completed\n",
      "[*********************100%***********************]  1 of 1 completed\n",
      "[*********************100%***********************]  1 of 1 completed\n",
      "[*********************100%***********************]  1 of 1 completed\n",
      "[*********************100%***********************]  1 of 1 completed\n",
      "[*********************100%***********************]  1 of 1 completed\n",
      "[*********************100%***********************]  1 of 1 completed\n",
      "[*********************100%***********************]  1 of 1 completed\n",
      "[*********************100%***********************]  1 of 1 completed\n",
      "[*********************100%***********************]  1 of 1 completed\n",
      "[*********************100%***********************]  1 of 1 completed\n"
     ]
    },
    {
     "ename": "KeyboardInterrupt",
     "evalue": "",
     "output_type": "error",
     "traceback": [
      "\u001b[0;31m---------------------------------------------------------------------------\u001b[0m",
      "\u001b[0;31mKeyboardInterrupt\u001b[0m                         Traceback (most recent call last)",
      "\u001b[1;32m/Users/Rohaan/Desktop/DE/Data_Engineering_Project/get_data.ipynb Cell 7\u001b[0m in \u001b[0;36m4\n\u001b[1;32m     <a href='vscode-notebook-cell:/Users/Rohaan/Desktop/DE/Data_Engineering_Project/get_data.ipynb#W6sZmlsZQ%3D%3D?line=36'>37</a>\u001b[0m     collection\u001b[39m.\u001b[39minsert_many(data_json)\n\u001b[1;32m     <a href='vscode-notebook-cell:/Users/Rohaan/Desktop/DE/Data_Engineering_Project/get_data.ipynb#W6sZmlsZQ%3D%3D?line=38'>39</a>\u001b[0m     \u001b[39m# Wait for 5 seconds before fetching new data\u001b[39;00m\n\u001b[0;32m---> <a href='vscode-notebook-cell:/Users/Rohaan/Desktop/DE/Data_Engineering_Project/get_data.ipynb#W6sZmlsZQ%3D%3D?line=39'>40</a>\u001b[0m     time\u001b[39m.\u001b[39;49msleep(\u001b[39m2\u001b[39;49m)\n\u001b[1;32m     <a href='vscode-notebook-cell:/Users/Rohaan/Desktop/DE/Data_Engineering_Project/get_data.ipynb#W6sZmlsZQ%3D%3D?line=41'>42</a>\u001b[0m \u001b[39mprint\u001b[39m(\u001b[39m\"\u001b[39m\u001b[39mExecution stopped by user\u001b[39m\u001b[39m\"\u001b[39m)\n",
      "\u001b[0;31mKeyboardInterrupt\u001b[0m: "
     ]
    }
   ],
   "source": [
    "import yfinance as yf\n",
    "import pandas as pd\n",
    "from pymongo import MongoClient\n",
    "import time\n",
    "from kafka import KafkaProducer\n",
    "import json\n",
    "\n",
    "# Connect to MongoDB\n",
    "client = MongoClient(\"mongodb://localhost:27017\")\n",
    "db = client[\"DE_new\"]  # Replace \"your_database_name\" with your desired database name\n",
    "collection = db[\"col_1\"]  # Replace \"your_collection_name\" with your desired collection name\n",
    "\n",
    "# Kafka configuration\n",
    "kafka_bootstrap_servers = \"localhost:9092\"\n",
    "kafka_topic = \"Topic_1_Trade_Data\"  # Replace \"your_topic_name\" with your desired Kafka topic name\n",
    "\n",
    "# Create Kafka producer\n",
    "kafka_producer = KafkaProducer(bootstrap_servers=kafka_bootstrap_servers,\n",
    "                                    api_version=(0,11,5),\n",
    "                                    value_serializer=lambda v: json.dumps(v).encode('utf-8'))\n",
    "# Main loop to continuously update the database\n",
    "while True:\n",
    "    # Fetch data using yfinance\n",
    "    ticker = \"UBER\"  # Replace with your desired ticker symbol\n",
    "    data = yf.download(ticker, period=\"1d\", interval=\"1m\")\n",
    "\n",
    "    # Convert data to a DataFrame\n",
    "    df = pd.DataFrame(data)\n",
    "\n",
    "    # Convert DataFrame to JSON format\n",
    "    data_json = df.to_dict(orient=\"records\")\n",
    "\n",
    "    # Send data to Kafka topic\n",
    "    kafka_producer.send(kafka_topic, value=data_json)\n",
    "\n",
    "    # Insert data into MongoDB\n",
    "    collection.insert_many(data_json)\n",
    "    \n",
    "    # Wait for 5 seconds before fetching new data\n",
    "    time.sleep(2)\n",
    "\n",
    "print(\"Execution stopped by user\")\n"
   ]
  },
  {
   "cell_type": "code",
   "execution_count": 18,
   "metadata": {},
   "outputs": [
    {
     "name": "stdout",
     "output_type": "stream",
     "text": [
      "2.0.2\n"
     ]
    }
   ],
   "source": [
    "import kafka\n",
    "\n",
    "print(kafka.__version__)"
   ]
  },
  {
   "cell_type": "code",
   "execution_count": null,
   "metadata": {},
   "outputs": [],
   "source": []
  }
 ],
 "metadata": {
  "kernelspec": {
   "display_name": "SRH_Python",
   "language": "python",
   "name": "python3"
  },
  "language_info": {
   "codemirror_mode": {
    "name": "ipython",
    "version": 3
   },
   "file_extension": ".py",
   "mimetype": "text/x-python",
   "name": "python",
   "nbconvert_exporter": "python",
   "pygments_lexer": "ipython3",
   "version": "3.9.15"
  },
  "orig_nbformat": 4
 },
 "nbformat": 4,
 "nbformat_minor": 2
}
